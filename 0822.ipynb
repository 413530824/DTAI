{
 "cells": [
  {
   "cell_type": "code",
   "execution_count": 1,
   "metadata": {},
   "outputs": [
    {
     "name": "stdout",
     "output_type": "stream",
     "text": [
      "0822\n"
     ]
    }
   ],
   "source": [
    "print(\"0822\")"
   ]
  },
  {
   "cell_type": "code",
   "execution_count": 2,
   "metadata": {},
   "outputs": [
    {
     "name": "stdout",
     "output_type": "stream",
     "text": [
      "2.5\n"
     ]
    }
   ],
   "source": [
    "#Quiz1 計算除法餘數\n",
    "a=float(input())\n",
    "b=float(input())\n",
    "print(a%b)"
   ]
  },
  {
   "cell_type": "code",
   "execution_count": 3,
   "metadata": {},
   "outputs": [
    {
     "name": "stdout",
     "output_type": "stream",
     "text": [
      "153,\n"
     ]
    }
   ],
   "source": [
    "#Quiz10 利用for迴圈來尋找水仙花數\n",
    "a,b=map(int,input().split())\n",
    "n=[]\n",
    "for num in range(a,b):\n",
    "    if 100 <= num <= 999:\n",
    "        c=num //100\n",
    "        d=(num//10)%10\n",
    "        e=num%10\n",
    "        if c**3 + d**3 + e**3==num:\n",
    "            n.append(num)\n",
    "print(\",\".join(map(str,n))+ \",\")\n"
   ]
  },
  {
   "cell_type": "code",
   "execution_count": 5,
   "metadata": {},
   "outputs": [
    {
     "name": "stdout",
     "output_type": "stream",
     "text": [
      "t=2.0 b=5.0 h=4.8 area=16.8\n"
     ]
    }
   ],
   "source": [
    "#Quiz2 計算梯形面積並格式化輸出\n",
    "a=float(input())\n",
    "b=float(input())\n",
    "c=float(input())\n",
    "d=(a+b)*c/2\n",
    "print(f\"t={a} b={b} h={c} area={d}\")"
   ]
  },
  {
   "cell_type": "code",
   "execution_count": 6,
   "metadata": {},
   "outputs": [
    {
     "name": "stdout",
     "output_type": "stream",
     "text": [
      "park time:11hour:9minute\n",
      "pay:300money\n"
     ]
    }
   ],
   "source": [
    "#Quiz3 停車費計算\n",
    "money=int(input())\n",
    "hour=money//60\n",
    "minute=money%60\n",
    "if minute==0:\n",
    "    total=hour*40\n",
    "else:\n",
    "    total=hour*40+20\n",
    "if total>300:\n",
    "    total=300\n",
    "print(f\"park time:{hour}hour:{minute}minute\")\n",
    "print(f\"pay:{total}money\")"
   ]
  },
  {
   "cell_type": "code",
   "execution_count": 7,
   "metadata": {},
   "outputs": [
    {
     "name": "stdout",
     "output_type": "stream",
     "text": [
      "[3, 4, 5, 6, 7]\n"
     ]
    }
   ],
   "source": [
    "#Quiz4 利用range產生指定串列list\n",
    "a,b,c=map(int, input().split())\n",
    "r=list(range(a,b,c))\n",
    "print(r)"
   ]
  },
  {
   "cell_type": "code",
   "execution_count": 10,
   "metadata": {},
   "outputs": [
    {
     "name": "stdout",
     "output_type": "stream",
     "text": [
      "2000 is leap year\n"
     ]
    }
   ],
   "source": [
    "#Quiz5 判斷平年、閏年\n",
    "y=int(input())\n",
    "if y%4==0:\n",
    "    if y%100==0:\n",
    "        if y%400==0:\n",
    "            print(f\"{y} is leap year\")\n",
    "        else:\n",
    "            print(f\"{y} is common year\")\n",
    "    else:\n",
    "      print(f\"{y} is leap year\")\n",
    "else:\n",
    "    print(f\"{y} is common year\")"
   ]
  },
  {
   "cell_type": "code",
   "execution_count": 11,
   "metadata": {},
   "outputs": [
    {
     "name": "stdout",
     "output_type": "stream",
     "text": [
      "100 is A\n"
     ]
    }
   ],
   "source": [
    "#Quiz6 成績等第判斷\n",
    "g=int(input())\n",
    "if g>100:\n",
    "    print(g,\"is error\")\n",
    "elif 90<= g <=100:\n",
    "    print(g,\"is A\")\n",
    "elif 80<= g <=89:\n",
    "    print(g,\"is B\")\n",
    "elif 70<= g <=79:\n",
    "    print(g,\"is C\")\n",
    "elif 60<= g <=69:\n",
    "    print(g,\"is D\")\n",
    "elif 0<= g <=59:\n",
    "    print(g,\"is E\")\n",
    "elif g<0:\n",
    "    print(g,\"is error\")"
   ]
  },
  {
   "cell_type": "code",
   "execution_count": 13,
   "metadata": {},
   "outputs": [
    {
     "name": "stdout",
     "output_type": "stream",
     "text": [
      "0,5,10,15,20,25,30,35,40,45,50,55,60,65,70,75,80,85,90,95,"
     ]
    }
   ],
   "source": [
    "#Quiz7 利用for迴圈產生指定數列\n",
    "a,b,c=map(int,input().split())\n",
    "for i in range(a,b,c):\n",
    "    print(i,end=',')"
   ]
  },
  {
   "cell_type": "code",
   "execution_count": 14,
   "metadata": {},
   "outputs": [
    {
     "name": "stdout",
     "output_type": "stream",
     "text": [
      "*\n",
      "**\n",
      "***\n",
      "****\n",
      "*****\n"
     ]
    }
   ],
   "source": [
    "#Quiz8 用＊印出靠左下的直角三角形\n",
    "n=int(input())\n",
    "for i in range(1,n+1):\n",
    "    print('*'*i)"
   ]
  },
  {
   "cell_type": "code",
   "execution_count": 17,
   "metadata": {},
   "outputs": [
    {
     "name": "stdout",
     "output_type": "stream",
     "text": [
      "1*1=1 1*2=2 1*3=3 1*4=4 1*5=5 1*6=6 1*7=7 1*8=8 1*9=9 \n",
      "2*1=2 2*2=4 2*3=6 2*4=8 2*5=10 2*6=12 2*7=14 2*8=16 2*9=18 \n",
      "3*1=3 3*2=6 3*3=9 3*4=12 3*5=15 3*6=18 3*7=21 3*8=24 3*9=27 \n",
      "4*1=4 4*2=8 4*3=12 4*4=16 4*5=20 4*6=24 4*7=28 4*8=32 4*9=36 \n",
      "5*1=5 5*2=10 5*3=15 5*4=20 5*5=25 5*6=30 5*7=35 5*8=40 5*9=45 \n",
      "6*1=6 6*2=12 6*3=18 6*4=24 6*5=30 6*6=36 6*7=42 6*8=48 6*9=54 \n",
      "7*1=7 7*2=14 7*3=21 7*4=28 7*5=35 7*6=42 7*7=49 7*8=56 7*9=63 \n",
      "8*1=8 8*2=16 8*3=24 8*4=32 8*5=40 8*6=48 8*7=56 8*8=64 8*9=72 \n",
      "9*1=9 9*2=18 9*3=27 9*4=36 9*5=45 9*6=54 9*7=63 9*8=72 9*9=81 \n"
     ]
    }
   ],
   "source": [
    "#Quiz9 印出乘法表\n",
    "n=int(input())\n",
    "for i in range(n,10):\n",
    "    for j in range(1,10):\n",
    "        print(\"%d*%d=%d\" % (i,j ,i*j),end=\" \")\n",
    "    print()"
   ]
  }
 ],
 "metadata": {
  "kernelspec": {
   "display_name": "Python 3",
   "language": "python",
   "name": "python3"
  },
  "language_info": {
   "codemirror_mode": {
    "name": "ipython",
    "version": 3
   },
   "file_extension": ".py",
   "mimetype": "text/x-python",
   "name": "python",
   "nbconvert_exporter": "python",
   "pygments_lexer": "ipython3",
   "version": "3.12.4"
  }
 },
 "nbformat": 4,
 "nbformat_minor": 2
}
