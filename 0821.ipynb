{
 "cells": [
  {
   "cell_type": "code",
   "execution_count": 1,
   "metadata": {},
   "outputs": [
    {
     "name": "stdout",
     "output_type": "stream",
     "text": [
      "0821\n"
     ]
    }
   ],
   "source": [
    "print(\"0821\")"
   ]
  },
  {
   "cell_type": "code",
   "execution_count": 2,
   "metadata": {},
   "outputs": [
    {
     "name": "stdout",
     "output_type": "stream",
     "text": [
      "6 is summer\n"
     ]
    }
   ],
   "source": [
    "#季節判斷\n",
    "x=int(input())\n",
    "if x<1 or x>12:\n",
    "    print(\"input error\")\n",
    "elif x in [3,4,5]:\n",
    "    print(f\"{x} is spring\")\n",
    "elif x in [6,7,8]:\n",
    "    print(f\"{x} is summer\")\n",
    "elif x in [9,10,11]:\n",
    "    print(f\"{x} is autumn\")\n",
    "elif x in [12,1,2]:\n",
    "    print(f\"{x} is winter\")     "
   ]
  },
  {
   "cell_type": "code",
   "execution_count": 3,
   "metadata": {},
   "outputs": [
    {
     "name": "stdout",
     "output_type": "stream",
     "text": [
      "pay 0 money\n"
     ]
    }
   ],
   "source": [
    "#應付稅額判斷\n",
    "x=int(input())\n",
    "if x>=2000000:\n",
    "    print(f'pay{x*0.3}money')\n",
    "elif 1000000<=x<2000000:\n",
    "    print(f'pay{x*0.21}money')\n",
    "elif 600000<=x<1000000:\n",
    "    print(f'pay{x*0.13}money')\n",
    "elif 300000<=x<600000:\n",
    "    print(f'pay{x*0.06}money')\n",
    "else:\n",
    "    print('pay 0 money')\n"
   ]
  },
  {
   "cell_type": "code",
   "execution_count": 5,
   "metadata": {},
   "outputs": [
    {
     "name": "stdout",
     "output_type": "stream",
     "text": [
      "80% discount is 71111110.4\n"
     ]
    }
   ],
   "source": [
    "#百貨公司周年慶\n",
    "x=int(input())\n",
    "if x>=100000:\n",
    "    print(f'80% discount is {x*0.8}')\n",
    "elif 50000<=x<100000:\n",
    "    print(f'85% discount is {x*0.85}')\n",
    "elif 30000<=x<50000:\n",
    "    print(f'90% discount is {x*0.9}')\n",
    "elif 10000<=x<30000:\n",
    "    print(f'95% discount is {x*0.95}')\n",
    "else:\n",
    "    print(f'no discount is {x}')\n"
   ]
  },
  {
   "cell_type": "code",
   "execution_count": 7,
   "metadata": {},
   "outputs": [
    {
     "name": "stdout",
     "output_type": "stream",
     "text": [
      "0,5,10,15,20,25,30,35,40,45,50,55,60,65,70,75,80,85,90,95,\n"
     ]
    }
   ],
   "source": [
    "#利用for迴圈產生指定數列\n",
    "# 讓使用者在同一行輸入三個整數，起始值、終止值和間隔值\n",
    "input_str = input(\"請輸入起始值、終止值和間隔值（用空格分隔）：\")\n",
    "\n",
    "# 將輸入字串分割成三部分，並轉換為整數\n",
    "try:\n",
    "    start, end, step = map(int, input_str.split())\n",
    "    \n",
    "    # 確保間隔值不為0\n",
    "    if step == 0:\n",
    "        print(\"間隔值不能為0。\")\n",
    "    else:\n",
    "        # 使用for迴圈生成數列，並將結果以逗號分隔\n",
    "        output = [str(i) for i in range(start, end, step)]\n",
    "        \n",
    "        # 將數字列表以逗號連接，並在最後加上一個逗號\n",
    "        result = ','.join(output) + ','\n",
    "\n",
    "        print(result)\n",
    "\n",
    "except ValueError:\n",
    "    print(\"輸入格式錯誤，請輸入三個整數，並用空格分隔。\")"
   ]
  },
  {
   "cell_type": "code",
   "execution_count": 10,
   "metadata": {},
   "outputs": [],
   "source": [
    "#將學號總和開根號後，再判斷奇偶數\n",
    "import math\n",
    "\n",
    "def main():\n",
    "    # 讀取並處理輸入\n",
    "    user_input = input(\"請輸入學號（以空格分隔每個數字）: \")\n",
    "    \n",
    "    # 將輸入按空格分開並轉換為整數列表\n",
    "    numbers = list(map(int, user_input.split()))\n",
    "    \n",
    "    # 確保輸入為 9 個數字\n",
    "    if len(numbers) != 9:\n",
    "        print(\"輸入錯誤！請確保輸入 9 個數字。\")\n",
    "        return\n",
    "\n",
    "    # 計算總和\n",
    "    total_sum = sum(numbers)\n",
    "    \n",
    "    # 計算開根號\n",
    "    sqrt_result = math.sqrt(total_sum)\n",
    "    \n",
    "    # 強制轉型為整數\n",
    "    int_result = int(sqrt_result)\n",
    "    \n",
    "    # 判斷強制轉型後的結果為奇數或偶數\n",
    "    if int_result % 2 == 0:\n",
    "        parity = \"even\"\n",
    "    else:\n",
    "        parity = \"odd\""
   ]
  },
  {
   "cell_type": "code",
   "execution_count": 11,
   "metadata": {},
   "outputs": [
    {
     "name": "stdout",
     "output_type": "stream",
     "text": [
      "[3, 4, 5, 6, 7]\n"
     ]
    }
   ],
   "source": [
    "#利用range產生指定串列list\n",
    "def main():\n",
    "    # 提示使用者輸入起始值、終止值和間隔值，並將它們從同一行讀取\n",
    "    user_input = input(\"請輸入起始值、終止值和間隔值 (整數)，用空格分隔：\")\n",
    "    \n",
    "    # 使用 split() 函數來分割輸入的字串，並將每個部分轉換為整數\n",
    "    start, stop, step = map(int, user_input.split())\n",
    "    \n",
    "    # 使用 range 來生成範圍\n",
    "    result_range = range(start, stop, step)\n",
    "    \n",
    "    # 將 range 轉換為 list\n",
    "    result_list = list(result_range)\n",
    "    \n",
    "    # 輸出結果，格式為 list 的字串表示形式\n",
    "    print(result_list)\n",
    "\n",
    "# 執行主程式\n",
    "if __name__ == \"__main__\":\n",
    "    main()"
   ]
  },
  {
   "cell_type": "code",
   "execution_count": 12,
   "metadata": {},
   "outputs": [
    {
     "name": "stdout",
     "output_type": "stream",
     "text": [
      "Invalid\n"
     ]
    }
   ],
   "source": [
    "#判斷是否為等腰三角形\n",
    "def is_valid_isosceles_triangle(a, b, c):\n",
    "    # 檢查三角形不等式\n",
    "    if a + b > c and a + c > b and b + c > a:\n",
    "        # 檢查是否為等腰三角形\n",
    "        return a == b or a == c or b == c\n",
    "    return False\n",
    "\n",
    "def main():\n",
    "    try:\n",
    "        # 讀取使用者的輸入\n",
    "        numbers = input(\"請輸入三個整數，用空格分隔：\").split()\n",
    "        \n",
    "        # 確保使用者輸入的是三個數字\n",
    "        if len(numbers) != 3:\n",
    "            print(\"Invalid\")\n",
    "            return\n",
    "        \n",
    "        # 將輸入的數字轉換為整數\n",
    "        a, b, c = map(int, numbers)\n",
    "        \n",
    "        # 判斷是否構成等腰三角形\n",
    "        if is_valid_isosceles_triangle(a, b, c):\n",
    "            print(\"Valid\")\n",
    "        else:\n",
    "            print(\"Invalid\")\n",
    "    \n",
    "    except ValueError:\n",
    "        print(\"Invalid\")\n",
    "\n",
    "if __name__ == \"__main__\":\n",
    "    main()"
   ]
  },
  {
   "cell_type": "code",
   "execution_count": 13,
   "metadata": {},
   "outputs": [
    {
     "name": "stdout",
     "output_type": "stream",
     "text": [
      "park time:12h:9m\n",
      "pay:300 money\n"
     ]
    }
   ],
   "source": [
    "#停車費計算\n",
    "def calculate_parking_fee(minutes):\n",
    "    # 計算滿小時的數量\n",
    "    hours = minutes // 60\n",
    "    remaining_minutes = minutes % 60\n",
    "\n",
    "    # 如果剩餘分鐘數大於0，則需要加收一個小時的費用\n",
    "    if remaining_minutes > 0:\n",
    "        hours += 1\n",
    "\n",
    "    # 根據規則計算總費用\n",
    "    fee = hours * 40\n",
    "    # 設定最高收費上限為300元\n",
    "    if fee > 300:\n",
    "        fee = 300\n",
    "    \n",
    "    return fee, hours, remaining_minutes\n",
    "\n",
    "def main():\n",
    "    try:\n",
    "        # 讀取使用者輸入\n",
    "        minutes = int(input(\"請輸入停車的分鐘數：\"))\n",
    "        if minutes < 0:\n",
    "            print(\"分鐘數不能為負數！\")\n",
    "            return\n",
    "\n",
    "        # 計算費用\n",
    "        fee, hours, remaining_minutes = calculate_parking_fee(minutes)\n",
    "\n",
    "        # 顯示結果\n",
    "        print(f\"park time:{hours}h:{remaining_minutes}m\")\n",
    "        print(f\"pay:{fee} money\")\n",
    "    except ValueError:\n",
    "        print(\"請輸入有效的整數！\")\n",
    "\n",
    "if __name__ == \"__main__\":\n",
    "    main()"
   ]
  },
  {
   "cell_type": "code",
   "execution_count": 14,
   "metadata": {},
   "outputs": [
    {
     "name": "stdout",
     "output_type": "stream",
     "text": [
      "153,\n"
     ]
    }
   ],
   "source": [
    "#利用for迴圈來尋找水仙花數\n",
    "# 定義一個函式來檢查是否為水仙花數\n",
    "def is_narcissistic(number):\n",
    "    # 將數字轉為字符串，並獲得其每個位數的立方和\n",
    "    digits = [int(d) for d in str(number)]\n",
    "    return sum(d ** 3 for d in digits) == number\n",
    "\n",
    "# 主程式開始\n",
    "if __name__ == \"__main__\":\n",
    "    # 讀取使用者輸入\n",
    "    start, end = map(int, input(\"請輸入起始值和終止值（以空格分隔）: \").split())\n",
    "    \n",
    "    # 找出並儲存所有水仙花數\n",
    "    narc_numbers = [num for num in range(start, end + 1) if is_narcissistic(num)]\n",
    "    \n",
    "    # 輸出結果，數字間以逗號分隔，並在最後添加一個逗號\n",
    "    result = \",\".join(map(str, narc_numbers))\n",
    "    if result:\n",
    "        result += \",\"  # 在結果字符串末尾添加逗號\n",
    "    print(result)"
   ]
  },
  {
   "cell_type": "code",
   "execution_count": 15,
   "metadata": {},
   "outputs": [
    {
     "name": "stdout",
     "output_type": "stream",
     "text": [
      "Tku Peiyu\n"
     ]
    }
   ],
   "source": [
    "#Print字串相加\n",
    "# 讀取使用者輸入的字串\n",
    "user_input = input()\n",
    "\n",
    "# 將輸入字串格式化並輸出\n",
    "print(f\"Tku {user_input}\")"
   ]
  },
  {
   "cell_type": "code",
   "execution_count": 16,
   "metadata": {},
   "outputs": [
    {
     "name": "stdout",
     "output_type": "stream",
     "text": [
      "22\n"
     ]
    }
   ],
   "source": [
    "#Print字串長度\n",
    "# 獲取使用者輸入的字串\n",
    "user_input = input()\n",
    "\n",
    "# 計算只包含字母和數字的字符的長度\n",
    "length_of_input = sum(c.isalnum() for c in user_input)\n",
    "\n",
    "# 輸出字串的長度\n",
    "print(length_of_input)"
   ]
  },
  {
   "cell_type": "code",
   "execution_count": 17,
   "metadata": {},
   "outputs": [
    {
     "name": "stdout",
     "output_type": "stream",
     "text": [
      "29.00\n"
     ]
    }
   ],
   "source": [
    "#Print字串長度至小數後2位\n",
    "# 讀取使用者的輸入\n",
    "user_input = input()\n",
    "\n",
    "# 計算輸入字串的長度\n",
    "length = len(user_input)\n",
    "\n",
    "# 使用%格式化方式輸出長度，並保留小數點後兩位\n",
    "print(\"%.2f\" % length)\n"
   ]
  },
  {
   "cell_type": "code",
   "execution_count": 19,
   "metadata": {},
   "outputs": [
    {
     "name": "stdout",
     "output_type": "stream",
     "text": [
      "450.0\n"
     ]
    }
   ],
   "source": [
    "#計算梯形面積\n",
    "# 讀取上底、下底和高度\n",
    "upper_base = float(input())  # 輸入上底\n",
    "lower_base = float(input())  # 輸入下底\n",
    "height = float(input())      # 輸入高度\n",
    "\n",
    "# 計算梯形面積\n",
    "area = (upper_base + lower_base) * height / 2\n",
    "\n",
    "# 輸出梯形面積\n",
    "print(area)"
   ]
  },
  {
   "cell_type": "code",
   "execution_count": 20,
   "metadata": {},
   "outputs": [
    {
     "name": "stdout",
     "output_type": "stream",
     "text": [
      "t=2.0 b=5.0 h=4.8 area=16.8\n"
     ]
    }
   ],
   "source": [
    "#計算梯形面積並格式化輸出\n",
    "# 讓使用者依序輸入上底、下底和高度\n",
    "upper_base = float(input())\n",
    "lower_base = float(input())\n",
    "height = float(input())\n",
    "\n",
    "# 計算梯形的面積\n",
    "area = (upper_base + lower_base) * height / 2\n",
    "\n",
    "# 按照指定格式輸出結果\n",
    "print(f\"t={upper_base} b={lower_base} h={height} area={area}\")"
   ]
  },
  {
   "cell_type": "code",
   "execution_count": null,
   "metadata": {},
   "outputs": [],
   "source": []
  }
 ],
 "metadata": {
  "kernelspec": {
   "display_name": "Python 3",
   "language": "python",
   "name": "python3"
  },
  "language_info": {
   "codemirror_mode": {
    "name": "ipython",
    "version": 3
   },
   "file_extension": ".py",
   "mimetype": "text/x-python",
   "name": "python",
   "nbconvert_exporter": "python",
   "pygments_lexer": "ipython3",
   "version": "3.12.4"
  }
 },
 "nbformat": 4,
 "nbformat_minor": 2
}
