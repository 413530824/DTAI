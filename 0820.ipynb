{
 "cells": [
  {
   "cell_type": "code",
   "execution_count": 1,
   "metadata": {},
   "outputs": [
    {
     "name": "stdout",
     "output_type": "stream",
     "text": [
      "0820\n"
     ]
    }
   ],
   "source": [
    "print(\"0820\")"
   ]
  },
  {
   "cell_type": "code",
   "execution_count": 2,
   "metadata": {},
   "outputs": [],
   "source": [
    "a=range(5)"
   ]
  },
  {
   "cell_type": "code",
   "execution_count": 3,
   "metadata": {},
   "outputs": [
    {
     "name": "stdout",
     "output_type": "stream",
     "text": [
      "[0, 1, 2, 3, 4]\n"
     ]
    }
   ],
   "source": [
    "print(list(a))"
   ]
  },
  {
   "cell_type": "code",
   "execution_count": 4,
   "metadata": {},
   "outputs": [],
   "source": [
    "b=range(1,6)"
   ]
  },
  {
   "cell_type": "code",
   "execution_count": 5,
   "metadata": {},
   "outputs": [
    {
     "name": "stdout",
     "output_type": "stream",
     "text": [
      "[1, 2, 3, 4, 5]\n"
     ]
    }
   ],
   "source": [
    "print(list(b))"
   ]
  },
  {
   "cell_type": "code",
   "execution_count": 6,
   "metadata": {},
   "outputs": [],
   "source": [
    "c=range(1,10,2)"
   ]
  },
  {
   "cell_type": "code",
   "execution_count": 7,
   "metadata": {},
   "outputs": [
    {
     "name": "stdout",
     "output_type": "stream",
     "text": [
      "[1, 3, 5, 7, 9]\n"
     ]
    }
   ],
   "source": [
    "print(list(c))"
   ]
  },
  {
   "cell_type": "code",
   "execution_count": 8,
   "metadata": {},
   "outputs": [],
   "source": [
    "d=range(10,1,-2)"
   ]
  },
  {
   "cell_type": "code",
   "execution_count": 10,
   "metadata": {},
   "outputs": [
    {
     "name": "stdout",
     "output_type": "stream",
     "text": [
      "[10, 8, 6, 4, 2]\n"
     ]
    }
   ],
   "source": [
    "print(list(d))"
   ]
  },
  {
   "cell_type": "code",
   "execution_count": 23,
   "metadata": {},
   "outputs": [
    {
     "name": "stdout",
     "output_type": "stream",
     "text": [
      "[1, 2, 3, 4, 5]\n"
     ]
    }
   ],
   "source": [
    "list1 = [1,2,3,4,5]\n",
    "print(list1)"
   ]
  },
  {
   "cell_type": "code",
   "execution_count": 25,
   "metadata": {},
   "outputs": [
    {
     "name": "stdout",
     "output_type": "stream",
     "text": [
      "['香蕉', '蘋果', '橘子']\n"
     ]
    }
   ],
   "source": [
    "list2=['香蕉','蘋果','橘子']\n",
    "print(list2)"
   ]
  },
  {
   "cell_type": "code",
   "execution_count": 26,
   "metadata": {},
   "outputs": [
    {
     "name": "stdout",
     "output_type": "stream",
     "text": [
      "[1, '柚子', True]\n"
     ]
    }
   ],
   "source": [
    "list3=[1,'柚子', True]\n",
    "print(list3)"
   ]
  },
  {
   "cell_type": "code",
   "execution_count": 27,
   "metadata": {},
   "outputs": [
    {
     "name": "stdout",
     "output_type": "stream",
     "text": [
      "蘋果\n"
     ]
    }
   ],
   "source": [
    "print(list2[1])\n"
   ]
  },
  {
   "cell_type": "code",
   "execution_count": 28,
   "metadata": {},
   "outputs": [
    {
     "name": "stdout",
     "output_type": "stream",
     "text": [
      "1\n"
     ]
    }
   ],
   "source": [
    "print(list1[0])"
   ]
  },
  {
   "cell_type": "code",
   "execution_count": 29,
   "metadata": {},
   "outputs": [
    {
     "name": "stdout",
     "output_type": "stream",
     "text": [
      "3\n"
     ]
    }
   ],
   "source": [
    "print(list1[-3])"
   ]
  },
  {
   "cell_type": "code",
   "execution_count": 30,
   "metadata": {},
   "outputs": [
    {
     "name": "stdout",
     "output_type": "stream",
     "text": [
      "橘子\n"
     ]
    }
   ],
   "source": [
    "print(list2[-1])"
   ]
  },
  {
   "cell_type": "code",
   "execution_count": 31,
   "metadata": {},
   "outputs": [
    {
     "name": "stdout",
     "output_type": "stream",
     "text": [
      "['mary', 'abcd']\n"
     ]
    }
   ],
   "source": [
    "list5=[[\"tom\",\"1234\"]],[\"mary\",\"abcd\"],[\"david\",\"5678\"]\n",
    "print(list5[1])\n",
    "\n"
   ]
  },
  {
   "cell_type": "code",
   "execution_count": 32,
   "metadata": {},
   "outputs": [
    {
     "name": "stdout",
     "output_type": "stream",
     "text": [
      "[['tom', '1234']]\n"
     ]
    }
   ],
   "source": [
    "print(list5[0])"
   ]
  },
  {
   "cell_type": "code",
   "execution_count": 33,
   "metadata": {},
   "outputs": [
    {
     "name": "stdout",
     "output_type": "stream",
     "text": [
      "abcd\n"
     ]
    }
   ],
   "source": [
    "print(list5[1][1])"
   ]
  },
  {
   "cell_type": "code",
   "execution_count": 34,
   "metadata": {},
   "outputs": [
    {
     "name": "stdout",
     "output_type": "stream",
     "text": [
      "['tom', '1234']\n"
     ]
    }
   ],
   "source": [
    "print(list5[0][0])"
   ]
  },
  {
   "cell_type": "code",
   "execution_count": 35,
   "metadata": {},
   "outputs": [
    {
     "name": "stdout",
     "output_type": "stream",
     "text": [
      "mary\n"
     ]
    }
   ],
   "source": [
    "print(list5[1][0])"
   ]
  },
  {
   "cell_type": "code",
   "execution_count": 39,
   "metadata": {},
   "outputs": [
    {
     "name": "stdout",
     "output_type": "stream",
     "text": [
      "國文成績: 85 分\n",
      "數學成績: 79 分\n",
      "英文成績: 93 分\n"
     ]
    }
   ],
   "source": [
    "list6=[[\"85\"],[\"79\"],[\"93\"]]\n",
    "print(\"國文成績:\",list6[0][0],\"分\")\n",
    "print(\"數學成績:\",list6[1][0],\"分\")\n",
    "print(\"英文成績:\",list6[2][0],\"分\")"
   ]
  },
  {
   "cell_type": "code",
   "execution_count": 42,
   "metadata": {},
   "outputs": [
    {
     "name": "stdout",
     "output_type": "stream",
     "text": [
      "香蕉,蘋果,橘子,"
     ]
    }
   ],
   "source": [
    "list1=['香蕉','蘋果','橘子']\n",
    "for n in list1:\n",
    "    print(n,end=\",\")"
   ]
  },
  {
   "cell_type": "code",
   "execution_count": 43,
   "metadata": {},
   "outputs": [
    {
     "name": "stdout",
     "output_type": "stream",
     "text": [
      "123\n",
      "apple\n",
      "True\n"
     ]
    }
   ],
   "source": [
    "list2=[123,'apple', True]\n",
    "for a in list2:\n",
    "    print(a)"
   ]
  },
  {
   "cell_type": "code",
   "execution_count": 47,
   "metadata": {},
   "outputs": [],
   "source": [
    "scores=[85,79,93]\n"
   ]
  },
  {
   "cell_type": "code",
   "execution_count": 48,
   "metadata": {},
   "outputs": [
    {
     "name": "stdout",
     "output_type": "stream",
     "text": [
      "3\n",
      "85\n",
      "79\n",
      "93\n"
     ]
    }
   ],
   "source": [
    "print(len(scores))\n",
    "for i in range(len(scores)):\n",
    "    print(scores[i])\n",
    "    "
   ]
  },
  {
   "cell_type": "code",
   "execution_count": 49,
   "metadata": {},
   "outputs": [
    {
     "name": "stdout",
     "output_type": "stream",
     "text": [
      "國文成績: 85 分\n",
      "數學成績: 79 分\n",
      "英文成績: 93 分\n"
     ]
    }
   ],
   "source": [
    "list6=[[\"85\"],[\"79\"],[\"93\"]]\n",
    "\n",
    "print(\"國文成績:\",list6[0][0],\"分\")\n",
    "print(\"數學成績:\",list6[1][0],\"分\")\n",
    "print(\"英文成績:\",list6[2][0],\"分\")"
   ]
  },
  {
   "cell_type": "code",
   "execution_count": 51,
   "metadata": {},
   "outputs": [
    {
     "name": "stdout",
     "output_type": "stream",
     "text": [
      "國文成績: [85, 79, 93] 分\n",
      "數學成績: [85, 79, 93] 分\n",
      "英文成績: [85, 79, 93] 分\n",
      "國文成績: [85, 79, 93] 分\n",
      "數學成績: [85, 79, 93] 分\n",
      "英文成績: [85, 79, 93] 分\n",
      "國文成績: [85, 79, 93] 分\n",
      "數學成績: [85, 79, 93] 分\n",
      "英文成績: [85, 79, 93] 分\n"
     ]
    }
   ],
   "source": [
    "list10=[85,79,93]\n",
    "for n in list10:\n",
    "    print(\"國文成績:\",list10,\"分\")\n",
    "    print(\"數學成績:\",list10,\"分\")\n",
    "    print(\"英文成績:\",list10,\"分\")"
   ]
  },
  {
   "cell_type": "code",
   "execution_count": 82,
   "metadata": {},
   "outputs": [
    {
     "name": "stdout",
     "output_type": "stream",
     "text": [
      "編號 1 姓名 Tom\n",
      "國文成績: 85 分\n",
      "數學成績: 79 分\n",
      "英文成績: 93 分\n",
      "編號 2 姓名 Mary\n",
      "國文成績: 85 分\n",
      "數學成績: 79 分\n",
      "英文成績: 93 分\n",
      "編號 3 姓名 Tony\n",
      "國文成績: 85 分\n",
      "數學成績: 79 分\n",
      "英文成績: 93 分\n"
     ]
    }
   ],
   "source": [
    "a=[85,79,93]\n",
    "b=[\"Tom\",\"Mary\",\"Tony\"]\n",
    "c=[1,2,3]\n",
    "d=[\"國文成績:\",\"數學成績:\",\"英文成績:\"]\n",
    "for i in range(len(b)):\n",
    "    print(\"編號\",c[i],\"姓名\",b[i])\n",
    "    for j in range(len(a)):\n",
    "        print(d[j],a[j],\"分\")"
   ]
  },
  {
   "cell_type": "code",
   "execution_count": 87,
   "metadata": {},
   "outputs": [
    {
     "name": "stdout",
     "output_type": "stream",
     "text": [
      "apple banana cake "
     ]
    }
   ],
   "source": [
    "list=['apple','banana','cake']\n",
    "for a in list:\n",
    "    print(a,end=\" \")"
   ]
  },
  {
   "cell_type": "code",
   "execution_count": 91,
   "metadata": {},
   "outputs": [
    {
     "name": "stdout",
     "output_type": "stream",
     "text": [
      "['apple'] ['banana'] ['cake'] "
     ]
    }
   ],
   "source": [
    "list=[['apple'],['banana'],['cake']]\n",
    "for a in list:\n",
    "    print(a,end=\" \")\n",
    "    "
   ]
  },
  {
   "cell_type": "code",
   "execution_count": 96,
   "metadata": {},
   "outputs": [
    {
     "name": "stdout",
     "output_type": "stream",
     "text": [
      "2022 is common year\n"
     ]
    }
   ],
   "source": [
    "year=int(input())\n",
    "if year%4==0:\n",
    "    if year%100==0:\n",
    "        if year%400==0:\n",
    "            print(f'{year} is leap year')\n",
    "        else:\n",
    "            print(f'{year} is common year')\n",
    "    else:\n",
    "       print(f'{year} is leap year')\n",
    "else:\n",
    "    print(f'{year} is common year')\n"
   ]
  },
  {
   "cell_type": "code",
   "execution_count": 109,
   "metadata": {},
   "outputs": [
    {
     "name": "stdout",
     "output_type": "stream",
     "text": [
      "0,5,10,15,20,25,30,35,40,45,50,55,60,65,70,75,80,85,90,95\n"
     ]
    }
   ],
   "source": [
    "# 取得使用者輸入\n",
    "user_input = input(\"\")\n",
    "\n",
    "# 解析輸入\n",
    "start, end, step = map(int, user_input.split())\n",
    "\n",
    "# 產生數列並用','分隔\n",
    "result = ','.join(str(i) for i in range(start, end, step))\n",
    "\n",
    "# 輸出結果\n",
    "print(result)"
   ]
  },
  {
   "cell_type": "code",
   "execution_count": 110,
   "metadata": {},
   "outputs": [
    {
     "name": "stdout",
     "output_type": "stream",
     "text": [
      "cake banana apple\n"
     ]
    }
   ],
   "source": [
    "# 取得使用者輸入\n",
    "user_input = input(\"請輸入三個字串，用空格分隔: \")\n",
    "\n",
    "# 解析輸入並反轉順序\n",
    "result = ' '.join(user_input.split()[::-1])\n",
    "\n",
    "# 輸出結果\n",
    "print(result)"
   ]
  },
  {
   "cell_type": "code",
   "execution_count": null,
   "metadata": {},
   "outputs": [],
   "source": []
  }
 ],
 "metadata": {
  "kernelspec": {
   "display_name": "Python 3",
   "language": "python",
   "name": "python3"
  },
  "language_info": {
   "codemirror_mode": {
    "name": "ipython",
    "version": 3
   },
   "file_extension": ".py",
   "mimetype": "text/x-python",
   "name": "python",
   "nbconvert_exporter": "python",
   "pygments_lexer": "ipython3",
   "version": "3.12.4"
  }
 },
 "nbformat": 4,
 "nbformat_minor": 2
}
