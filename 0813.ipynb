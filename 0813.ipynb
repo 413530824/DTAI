{
 "cells": [
  {
   "cell_type": "code",
   "execution_count": 30,
   "metadata": {},
   "outputs": [
    {
     "name": "stdout",
     "output_type": "stream",
     "text": [
      "0813\n"
     ]
    }
   ],
   "source": [
    "print(\"0813\")"
   ]
  },
  {
   "cell_type": "code",
   "execution_count": 37,
   "metadata": {},
   "outputs": [
    {
     "name": "stdout",
     "output_type": "stream",
     "text": [
      "歡迎光臨\n"
     ]
    }
   ],
   "source": [
    "密碼=int(input(\"請輸入密碼\"))\n",
    "if(密碼==1234):\n",
    "    print(\"歡迎光臨\")"
   ]
  },
  {
   "cell_type": "code",
   "execution_count": 32,
   "metadata": {},
   "outputs": [
    {
     "name": "stdout",
     "output_type": "stream",
     "text": [
      "奇數\n"
     ]
    }
   ],
   "source": [
    "num=int(input(\"輸入一個整數\"))\n",
    "if(num%2==0):\n",
    "     print(\"偶數\")\n",
    "else:\n",
    "    print(\"奇數\")  "
   ]
  },
  {
   "cell_type": "code",
   "execution_count": null,
   "metadata": {},
   "outputs": [
    {
     "name": "stdout",
     "output_type": "stream",
     "text": [
      "體溫正常\n"
     ]
    }
   ],
   "source": [
    "體溫=eval(input(\"清輸入體溫\"))\n",
    "if(體溫>=37.5):\n",
    "    print(\"體溫過高\")\n",
    "elif(37.4<體溫<37):\n",
    "    print(\"體溫偏高\")\n",
    "elif(34<體溫<36.9):\n",
    "    print(\"體溫正常\")\n",
    "else:\n",
    "    print(\"體溫異常，請重新測量\")"
   ]
  },
  {
   "cell_type": "code",
   "execution_count": 34,
   "metadata": {},
   "outputs": [
    {
     "name": "stdout",
     "output_type": "stream",
     "text": [
      "A\n"
     ]
    }
   ],
   "source": [
    "成績=eval(input(\"請輸入成績\"))\n",
    "if(成績>=90):\n",
    "    print(\"A\")\n",
    "elif(80<=成績<=89):\n",
    "    print(\"B\")\n",
    "elif(70<=成績<=79):  \n",
    "    print(\"C\")\n",
    "elif(60<=成績<=69):  \n",
    "    print(\"D\")\n",
    "elif(成績<60):   \n",
    "    print(\"E\")"
   ]
  },
  {
   "cell_type": "code",
   "execution_count": 40,
   "metadata": {},
   "outputs": [
    {
     "name": "stdout",
     "output_type": "stream",
     "text": [
      "今天記得帶傘\n"
     ]
    }
   ],
   "source": [
    "q=input(\"今天會下雨嗎\")\n",
    "if(q==\"Y\" or q==\"y\"):\n",
    "    print(\"今天記得帶傘\")"
   ]
  },
  {
   "cell_type": "code",
   "execution_count": 42,
   "metadata": {},
   "outputs": [
    {
     "name": "stdout",
     "output_type": "stream",
     "text": [
      "密碼錯誤\n"
     ]
    }
   ],
   "source": [
    "密碼=int(input(\"請輸入密碼\"))\n",
    "if(密碼==1234):\n",
    "    print(\"歡迎光臨\")\n",
    "else:\n",
    "    print(\"密碼錯誤\")"
   ]
  },
  {
   "cell_type": "code",
   "execution_count": 43,
   "metadata": {},
   "outputs": [
    {
     "name": "stdout",
     "output_type": "stream",
     "text": [
      "偶數\n"
     ]
    }
   ],
   "source": [
    "num=int(input(\"輸入一個整數\"))\n",
    "if(num%2==0):\n",
    "     print(\"偶數\")\n",
    "else:\n",
    "    print(\"奇數\")  "
   ]
  },
  {
   "cell_type": "code",
   "execution_count": 46,
   "metadata": {},
   "outputs": [
    {
     "name": "stdout",
     "output_type": "stream",
     "text": [
      "折扣價格為 1864.0\n"
     ]
    }
   ],
   "source": [
    "總額=int(input(\"清輸入購物車總額\"))\n",
    "if(總額>1000):\n",
    "    print(\"折扣價格為\",總額*0.8)\n",
    "elif(500<=總額<=1000):\n",
    "    print(\"折扣價格為\",總額*0.9)\n",
    "else:\n",
    "    print(\"價格為\",總額)"
   ]
  },
  {
   "cell_type": "code",
   "execution_count": 49,
   "metadata": {},
   "outputs": [
    {
     "name": "stdout",
     "output_type": "stream",
     "text": [
      "油量充足\n"
     ]
    }
   ],
   "source": [
    "fuel=eval(input(\"請輸入剩餘油量\"))\n",
    "if(fuel<5):\n",
    "    print(\"須立即加油\")\n",
    "elif(5<=fuel<=10):\n",
    "    print(\"油量不足，建議加油\")\n",
    "else:\n",
    "    print(\"油量充足\")"
   ]
  },
  {
   "cell_type": "code",
   "execution_count": 54,
   "metadata": {},
   "outputs": [
    {
     "name": "stdout",
     "output_type": "stream",
     "text": [
      "轉帳金額為 2230\n"
     ]
    }
   ],
   "source": [
    "amount=int(input(\"請輸入轉帳金額\"))\n",
    "if(amount>10000):\n",
    "    print(\"不取手續費\")\n",
    "elif(5000<=amount<10000):\n",
    "    print(\"轉帳金額為\",amount-50)\n",
    "elif(1000<=amount<5000):\n",
    "    print(\"轉帳金額為\",amount-100)\n",
    "else:\n",
    "    print(\"轉帳金額為\",amount-150)"
   ]
  }
 ],
 "metadata": {
  "kernelspec": {
   "display_name": "Python 3",
   "language": "python",
   "name": "python3"
  },
  "language_info": {
   "codemirror_mode": {
    "name": "ipython",
    "version": 3
   },
   "file_extension": ".py",
   "mimetype": "text/x-python",
   "name": "python",
   "nbconvert_exporter": "python",
   "pygments_lexer": "ipython3",
   "version": "3.12.4"
  }
 },
 "nbformat": 4,
 "nbformat_minor": 2
}
